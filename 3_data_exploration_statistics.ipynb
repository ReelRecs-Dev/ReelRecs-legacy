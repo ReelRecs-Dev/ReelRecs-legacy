{
 "cells": [
  {
   "cell_type": "code",
   "execution_count": null,
   "id": "1e36f6cb",
   "metadata": {},
   "outputs": [],
   "source": [
    "import datetime\n",
    "import numpy as np\n",
    "import numpy.ma as ma\n",
    "from numpy import genfromtxt\n",
    "from collections import defaultdict\n",
    "import pandas as pd\n",
    "import tensorflow as tf\n",
    "from tensorflow import keras\n",
    "from sklearn.preprocessing import StandardScaler, MinMaxScaler\n",
    "from sklearn.model_selection import train_test_split\n",
    "import tabulate\n",
    "pd.set_option(\"display.precision\", 1)\n",
    "\n",
    "from IPython.display import display\n",
    "import matplotlib.pyplot as plt\n",
    "from tqdm.notebook import tqdm\n",
    "\n",
    "%run preprocessing_functions.ipynb"
   ]
  },
  {
   "cell_type": "code",
   "execution_count": null,
   "id": "28b7f42f",
   "metadata": {},
   "outputs": [],
   "source": [
    "# Load the CSV file into a DataFrame (replace 'your_file.csv' with the actual file path)\n",
    "df_user = pd.read_csv(r'.\\datasets\\ml-latest-small\\ratings.csv')\n",
    "df_movie = pd.read_csv(r'.\\datasets\\ml-latest-small\\movies.csv')\n",
    "df_links = pd.read_csv(r'.\\datasets\\ml-latest-small\\links.csv')\n",
    "df_tags = pd.read_csv(r'.\\datasets\\ml-latest-small\\tags.csv')"
   ]
  },
  {
   "cell_type": "markdown",
   "id": "1916a737",
   "metadata": {},
   "source": [
    "## 1 - Central Tendency Measures"
   ]
  },
  {
   "cell_type": "code",
   "execution_count": null,
   "id": "8605c68b",
   "metadata": {},
   "outputs": [],
   "source": []
  },
  {
   "cell_type": "markdown",
   "id": "6d9f6153",
   "metadata": {},
   "source": [
    "## 2 - Dispersion Measures"
   ]
  },
  {
   "cell_type": "code",
   "execution_count": null,
   "id": "43eadf7a",
   "metadata": {},
   "outputs": [],
   "source": []
  },
  {
   "cell_type": "markdown",
   "id": "df36851f",
   "metadata": {},
   "source": [
    "## 3 - Skewness"
   ]
  },
  {
   "cell_type": "code",
   "execution_count": null,
   "id": "c6958bd2",
   "metadata": {},
   "outputs": [],
   "source": []
  },
  {
   "cell_type": "markdown",
   "id": "a3b6fef1",
   "metadata": {},
   "source": [
    "## 4 - Class Imbalanced"
   ]
  },
  {
   "cell_type": "code",
   "execution_count": null,
   "id": "d108511b",
   "metadata": {},
   "outputs": [],
   "source": []
  },
  {
   "cell_type": "markdown",
   "id": "b878ebe7",
   "metadata": {},
   "source": [
    "## 5 - Correlation"
   ]
  },
  {
   "cell_type": "code",
   "execution_count": null,
   "id": "8fb0d391",
   "metadata": {},
   "outputs": [],
   "source": []
  }
 ],
 "metadata": {
  "kernelspec": {
   "display_name": "Python 3 (ipykernel)",
   "language": "python",
   "name": "python3"
  },
  "language_info": {
   "codemirror_mode": {
    "name": "ipython",
    "version": 3
   },
   "file_extension": ".py",
   "mimetype": "text/x-python",
   "name": "python",
   "nbconvert_exporter": "python",
   "pygments_lexer": "ipython3",
   "version": "3.9.12"
  }
 },
 "nbformat": 4,
 "nbformat_minor": 5
}
